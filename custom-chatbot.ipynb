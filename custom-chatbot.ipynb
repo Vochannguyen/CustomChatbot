{
 "cells": [
  {
   "cell_type": "markdown",
   "id": "124e5672",
   "metadata": {},
   "source": [
    "# Custom Chatbot Project\n",
    "\n",
    "## Character Knowledge Base - Ask Questions / Recommendation System"
   ]
  },
  {
   "cell_type": "markdown",
   "id": "2a4a94b3",
   "metadata": {},
   "source": [
    "TODO: In this cell, write an explanation of which dataset you have chosen and why it is appropriate for this task"
   ]
  },
  {
   "cell_type": "markdown",
   "id": "c6053a3f",
   "metadata": {},
   "source": [
    "I have chosen the character_descriptions.csv dataset. This dataset is a file that contains character descriptions from different genres such as theatre, tv, and film productions. There are four columns with 55 rows. The first column has 55 different unique names. The second is description, which is the text we will be using. The third is the medium, which is what the media is. There are 7 different mediums of entertainment, and lastly setting has 6 different settings.\n",
    "\n",
    "I chose this dataset because it seems the applicable to my job since I am working with customer data and wanted to focus on building AI tools and chatbot to help customers. This is mostly pretaining to building out a knowledge management with a question and ansewring component. This datset features columns that are quite useful for future use cases such as name, descriptions, location, and classification tags.\n",
    "\n",
    "In my custom scenario today I creating a RAG (Retrieval Augmented Generation) on the character description. I will offer my AI services to a possible company that maintains character databases to create entertainment such as Fox, Netflix, and other major companies that want to offer their knowledge management tool. Additionally, this can be used to build our their own Wiki sources, since it is becoming popular to ask questions on characters once you finish watching a movie or reading a book to get every detail on a character."
   ]
  },
  {
   "cell_type": "markdown",
   "id": "8acbd476",
   "metadata": {},
   "source": [
    "### Load Data"
   ]
  },
  {
   "cell_type": "code",
   "execution_count": 19,
   "id": "7352f9dc",
   "metadata": {},
   "outputs": [
    {
     "data": {
      "text/html": [
       "<div>\n",
       "<style scoped>\n",
       "    .dataframe tbody tr th:only-of-type {\n",
       "        vertical-align: middle;\n",
       "    }\n",
       "\n",
       "    .dataframe tbody tr th {\n",
       "        vertical-align: top;\n",
       "    }\n",
       "\n",
       "    .dataframe thead th {\n",
       "        text-align: right;\n",
       "    }\n",
       "</style>\n",
       "<table border=\"1\" class=\"dataframe\">\n",
       "  <thead>\n",
       "    <tr style=\"text-align: right;\">\n",
       "      <th></th>\n",
       "      <th>Name</th>\n",
       "      <th>Description</th>\n",
       "      <th>Medium</th>\n",
       "      <th>Setting</th>\n",
       "    </tr>\n",
       "  </thead>\n",
       "  <tbody>\n",
       "    <tr>\n",
       "      <th>0</th>\n",
       "      <td>Emily</td>\n",
       "      <td>A young woman in her early 20s, Emily is an as...</td>\n",
       "      <td>Play</td>\n",
       "      <td>England</td>\n",
       "    </tr>\n",
       "    <tr>\n",
       "      <th>1</th>\n",
       "      <td>Jack</td>\n",
       "      <td>A middle-aged man in his 40s, Jack is a succes...</td>\n",
       "      <td>Play</td>\n",
       "      <td>England</td>\n",
       "    </tr>\n",
       "    <tr>\n",
       "      <th>2</th>\n",
       "      <td>Alice</td>\n",
       "      <td>A woman in her late 30s, Alice is a warm and n...</td>\n",
       "      <td>Play</td>\n",
       "      <td>England</td>\n",
       "    </tr>\n",
       "    <tr>\n",
       "      <th>3</th>\n",
       "      <td>Tom</td>\n",
       "      <td>A man in his 50s, Tom is a retired soldier and...</td>\n",
       "      <td>Play</td>\n",
       "      <td>England</td>\n",
       "    </tr>\n",
       "    <tr>\n",
       "      <th>4</th>\n",
       "      <td>Sarah</td>\n",
       "      <td>A woman in her mid-20s, Sarah is a free-spirit...</td>\n",
       "      <td>Play</td>\n",
       "      <td>England</td>\n",
       "    </tr>\n",
       "  </tbody>\n",
       "</table>\n",
       "</div>"
      ],
      "text/plain": [
       "    Name                                        Description Medium  Setting\n",
       "0  Emily  A young woman in her early 20s, Emily is an as...   Play  England\n",
       "1   Jack  A middle-aged man in his 40s, Jack is a succes...   Play  England\n",
       "2  Alice  A woman in her late 30s, Alice is a warm and n...   Play  England\n",
       "3    Tom  A man in his 50s, Tom is a retired soldier and...   Play  England\n",
       "4  Sarah  A woman in her mid-20s, Sarah is a free-spirit...   Play  England"
      ]
     },
     "execution_count": 19,
     "metadata": {},
     "output_type": "execute_result"
    }
   ],
   "source": [
    "import pandas as pd\n",
    "\n",
    "df = pd.read_csv(\"./data/character_descriptions.csv\")\n",
    "\n",
    "df.head()"
   ]
  },
  {
   "cell_type": "markdown",
   "id": "a37dfe37",
   "metadata": {},
   "source": [
    "### Find the amount of Unique Names"
   ]
  },
  {
   "cell_type": "code",
   "execution_count": 20,
   "id": "8ae050c9",
   "metadata": {},
   "outputs": [
    {
     "data": {
      "text/plain": [
       "array(['Emily', 'Jack', 'Alice', 'Tom', 'Sarah', 'George', 'Rachel',\n",
       "       'John', 'Maria', 'Caleb', 'Tyler', 'Sonya', 'Manuel', 'Will',\n",
       "       'Mia', 'Lucas', 'Tahlia', 'Max', 'Ava', 'Donna', 'Johnny', 'Sable',\n",
       "       'Dolly', 'Vixen', 'Karma', 'Crystal', 'Olivia', 'Marcus', 'Maya',\n",
       "       'James', 'Sophia', 'Noah', 'Chloe', 'Jake', 'Prince Lorenzo',\n",
       "       'Signora Rosa', 'Baron Gustavo', 'Francesca', 'Don Carlo',\n",
       "       'Duke Orsino', 'Lady Olivia', 'Sir Toby Belch', 'Malvolio',\n",
       "       'Viola', 'Sir Andrew Aguecheek', 'Bianca', 'Sebastian', 'Feste',\n",
       "       'Antonio', 'Abigail', 'Thomas', 'Reverend Brown', 'Captain James',\n",
       "       'Mrs. Mercer', 'Mr. Mercer'], dtype=object)"
      ]
     },
     "execution_count": 20,
     "metadata": {},
     "output_type": "execute_result"
    }
   ],
   "source": [
    "unique_names = df['Name'].unique()\n",
    "unique_names"
   ]
  },
  {
   "cell_type": "code",
   "execution_count": 21,
   "id": "369e5221",
   "metadata": {},
   "outputs": [
    {
     "name": "stdout",
     "output_type": "stream",
     "text": [
      "Number of Unique Names 55\n"
     ]
    }
   ],
   "source": [
    "nunique_names = df['Name'].nunique()\n",
    "print(f\"Number of Unique Names {nunique_names}\")"
   ]
  },
  {
   "cell_type": "markdown",
   "id": "ecb93cae",
   "metadata": {},
   "source": [
    "### Find the amount of Unique Mediums"
   ]
  },
  {
   "cell_type": "code",
   "execution_count": 22,
   "id": "40ac9492",
   "metadata": {},
   "outputs": [
    {
     "data": {
      "text/plain": [
       "array(['Play', 'Movie', 'Limited Series', 'Musical', 'Reality Show',\n",
       "       'Opera', 'Sitcom'], dtype=object)"
      ]
     },
     "execution_count": 22,
     "metadata": {},
     "output_type": "execute_result"
    }
   ],
   "source": [
    "uinque_medium = df[\"Medium\"].unique()\n",
    "uinque_medium"
   ]
  },
  {
   "cell_type": "code",
   "execution_count": 23,
   "id": "2e61ed9a",
   "metadata": {},
   "outputs": [
    {
     "data": {
      "text/plain": [
       "7"
      ]
     },
     "execution_count": 23,
     "metadata": {},
     "output_type": "execute_result"
    }
   ],
   "source": [
    "nuinque_medium = df[\"Medium\"].nunique()\n",
    "nuinque_medium"
   ]
  },
  {
   "cell_type": "markdown",
   "id": "49564d6d",
   "metadata": {},
   "source": [
    "### Find the amount of Unique Settings"
   ]
  },
  {
   "cell_type": "code",
   "execution_count": 24,
   "id": "a51028da",
   "metadata": {},
   "outputs": [
    {
     "data": {
      "text/plain": [
       "array(['England', 'Texas', 'Australia', 'USA', 'Italy', 'Ancient Greece'],\n",
       "      dtype=object)"
      ]
     },
     "execution_count": 24,
     "metadata": {},
     "output_type": "execute_result"
    }
   ],
   "source": [
    "unique_setting = df[\"Setting\"].unique()\n",
    "unique_setting"
   ]
  },
  {
   "cell_type": "code",
   "execution_count": 25,
   "id": "f39d0744",
   "metadata": {},
   "outputs": [
    {
     "data": {
      "text/plain": [
       "6"
      ]
     },
     "execution_count": 25,
     "metadata": {},
     "output_type": "execute_result"
    }
   ],
   "source": [
    "nunique_setting = df[\"Setting\"].nunique()\n",
    "nunique_setting"
   ]
  },
  {
   "cell_type": "markdown",
   "id": "a63d4c5f",
   "metadata": {},
   "source": [
    "## Data Wrangling\n",
    "\n",
    "TODO: In the cells below, load your chosen dataset into a `pandas` dataframe with a column named `\"text\"`. This column should contain all of your text data, separated into at least 20 rows."
   ]
  },
  {
   "cell_type": "code",
   "execution_count": 26,
   "id": "774b55fc",
   "metadata": {},
   "outputs": [
    {
     "data": {
      "text/html": [
       "<div>\n",
       "<style scoped>\n",
       "    .dataframe tbody tr th:only-of-type {\n",
       "        vertical-align: middle;\n",
       "    }\n",
       "\n",
       "    .dataframe tbody tr th {\n",
       "        vertical-align: top;\n",
       "    }\n",
       "\n",
       "    .dataframe thead th {\n",
       "        text-align: right;\n",
       "    }\n",
       "</style>\n",
       "<table border=\"1\" class=\"dataframe\">\n",
       "  <thead>\n",
       "    <tr style=\"text-align: right;\">\n",
       "      <th></th>\n",
       "      <th>Name</th>\n",
       "      <th>text</th>\n",
       "      <th>Medium</th>\n",
       "      <th>Setting</th>\n",
       "    </tr>\n",
       "  </thead>\n",
       "  <tbody>\n",
       "    <tr>\n",
       "      <th>0</th>\n",
       "      <td>Emily</td>\n",
       "      <td>A young woman in her early 20s, Emily is an as...</td>\n",
       "      <td>Play</td>\n",
       "      <td>England</td>\n",
       "    </tr>\n",
       "    <tr>\n",
       "      <th>1</th>\n",
       "      <td>Jack</td>\n",
       "      <td>A middle-aged man in his 40s, Jack is a succes...</td>\n",
       "      <td>Play</td>\n",
       "      <td>England</td>\n",
       "    </tr>\n",
       "    <tr>\n",
       "      <th>2</th>\n",
       "      <td>Alice</td>\n",
       "      <td>A woman in her late 30s, Alice is a warm and n...</td>\n",
       "      <td>Play</td>\n",
       "      <td>England</td>\n",
       "    </tr>\n",
       "    <tr>\n",
       "      <th>3</th>\n",
       "      <td>Tom</td>\n",
       "      <td>A man in his 50s, Tom is a retired soldier and...</td>\n",
       "      <td>Play</td>\n",
       "      <td>England</td>\n",
       "    </tr>\n",
       "    <tr>\n",
       "      <th>4</th>\n",
       "      <td>Sarah</td>\n",
       "      <td>A woman in her mid-20s, Sarah is a free-spirit...</td>\n",
       "      <td>Play</td>\n",
       "      <td>England</td>\n",
       "    </tr>\n",
       "    <tr>\n",
       "      <th>5</th>\n",
       "      <td>George</td>\n",
       "      <td>A man in his early 30s, George is a charming a...</td>\n",
       "      <td>Play</td>\n",
       "      <td>England</td>\n",
       "    </tr>\n",
       "    <tr>\n",
       "      <th>6</th>\n",
       "      <td>Rachel</td>\n",
       "      <td>A woman in her late 20s, Rachel is a shy and i...</td>\n",
       "      <td>Play</td>\n",
       "      <td>England</td>\n",
       "    </tr>\n",
       "    <tr>\n",
       "      <th>7</th>\n",
       "      <td>John</td>\n",
       "      <td>A man in his 60s, John is a retired professor ...</td>\n",
       "      <td>Play</td>\n",
       "      <td>England</td>\n",
       "    </tr>\n",
       "    <tr>\n",
       "      <th>8</th>\n",
       "      <td>Maria</td>\n",
       "      <td>A middle-aged Latina woman in her 40s, Maria i...</td>\n",
       "      <td>Movie</td>\n",
       "      <td>Texas</td>\n",
       "    </tr>\n",
       "    <tr>\n",
       "      <th>9</th>\n",
       "      <td>Caleb</td>\n",
       "      <td>A young African American man in his early 20s,...</td>\n",
       "      <td>Movie</td>\n",
       "      <td>Texas</td>\n",
       "    </tr>\n",
       "    <tr>\n",
       "      <th>10</th>\n",
       "      <td>Tyler</td>\n",
       "      <td>A white man in his mid-30s, Tyler is a tough-a...</td>\n",
       "      <td>Movie</td>\n",
       "      <td>Texas</td>\n",
       "    </tr>\n",
       "    <tr>\n",
       "      <th>11</th>\n",
       "      <td>Sonya</td>\n",
       "      <td>A white woman in her late 20s, Sonya is a free...</td>\n",
       "      <td>Movie</td>\n",
       "      <td>Texas</td>\n",
       "    </tr>\n",
       "    <tr>\n",
       "      <th>12</th>\n",
       "      <td>Manuel</td>\n",
       "      <td>A middle-aged Hispanic man in his 50s, Manuel ...</td>\n",
       "      <td>Movie</td>\n",
       "      <td>Texas</td>\n",
       "    </tr>\n",
       "    <tr>\n",
       "      <th>13</th>\n",
       "      <td>Will</td>\n",
       "      <td>A white man in his early 40s, Will is a succes...</td>\n",
       "      <td>Movie</td>\n",
       "      <td>Texas</td>\n",
       "    </tr>\n",
       "    <tr>\n",
       "      <th>14</th>\n",
       "      <td>Mia</td>\n",
       "      <td>A young Australian woman in her mid-20s, Mia i...</td>\n",
       "      <td>Limited Series</td>\n",
       "      <td>Australia</td>\n",
       "    </tr>\n",
       "    <tr>\n",
       "      <th>15</th>\n",
       "      <td>Lucas</td>\n",
       "      <td>A middle-aged Australian man in his 40s, Lucas...</td>\n",
       "      <td>Limited Series</td>\n",
       "      <td>Australia</td>\n",
       "    </tr>\n",
       "    <tr>\n",
       "      <th>16</th>\n",
       "      <td>Tahlia</td>\n",
       "      <td>A young Indigenous Australian woman in her ear...</td>\n",
       "      <td>Limited Series</td>\n",
       "      <td>Australia</td>\n",
       "    </tr>\n",
       "    <tr>\n",
       "      <th>17</th>\n",
       "      <td>Max</td>\n",
       "      <td>A white Australian man in his late 20s, Max is...</td>\n",
       "      <td>Limited Series</td>\n",
       "      <td>Australia</td>\n",
       "    </tr>\n",
       "    <tr>\n",
       "      <th>18</th>\n",
       "      <td>Ava</td>\n",
       "      <td>A middle-aged Australian woman in her 50s, Ava...</td>\n",
       "      <td>Limited Series</td>\n",
       "      <td>Australia</td>\n",
       "    </tr>\n",
       "    <tr>\n",
       "      <th>19</th>\n",
       "      <td>Donna</td>\n",
       "      <td>A seasoned performer with a larger-than-life p...</td>\n",
       "      <td>Musical</td>\n",
       "      <td>USA</td>\n",
       "    </tr>\n",
       "    <tr>\n",
       "      <th>20</th>\n",
       "      <td>Johnny</td>\n",
       "      <td>A young up-and-coming performer, Johnny is ful...</td>\n",
       "      <td>Musical</td>\n",
       "      <td>USA</td>\n",
       "    </tr>\n",
       "  </tbody>\n",
       "</table>\n",
       "</div>"
      ],
      "text/plain": [
       "      Name                                               text          Medium  \\\n",
       "0    Emily  A young woman in her early 20s, Emily is an as...            Play   \n",
       "1     Jack  A middle-aged man in his 40s, Jack is a succes...            Play   \n",
       "2    Alice  A woman in her late 30s, Alice is a warm and n...            Play   \n",
       "3      Tom  A man in his 50s, Tom is a retired soldier and...            Play   \n",
       "4    Sarah  A woman in her mid-20s, Sarah is a free-spirit...            Play   \n",
       "5   George  A man in his early 30s, George is a charming a...            Play   \n",
       "6   Rachel  A woman in her late 20s, Rachel is a shy and i...            Play   \n",
       "7     John  A man in his 60s, John is a retired professor ...            Play   \n",
       "8    Maria  A middle-aged Latina woman in her 40s, Maria i...           Movie   \n",
       "9    Caleb  A young African American man in his early 20s,...           Movie   \n",
       "10   Tyler  A white man in his mid-30s, Tyler is a tough-a...           Movie   \n",
       "11   Sonya  A white woman in her late 20s, Sonya is a free...           Movie   \n",
       "12  Manuel  A middle-aged Hispanic man in his 50s, Manuel ...           Movie   \n",
       "13    Will  A white man in his early 40s, Will is a succes...           Movie   \n",
       "14     Mia  A young Australian woman in her mid-20s, Mia i...  Limited Series   \n",
       "15   Lucas  A middle-aged Australian man in his 40s, Lucas...  Limited Series   \n",
       "16  Tahlia  A young Indigenous Australian woman in her ear...  Limited Series   \n",
       "17     Max  A white Australian man in his late 20s, Max is...  Limited Series   \n",
       "18     Ava  A middle-aged Australian woman in her 50s, Ava...  Limited Series   \n",
       "19   Donna  A seasoned performer with a larger-than-life p...         Musical   \n",
       "20  Johnny  A young up-and-coming performer, Johnny is ful...         Musical   \n",
       "\n",
       "      Setting  \n",
       "0     England  \n",
       "1     England  \n",
       "2     England  \n",
       "3     England  \n",
       "4     England  \n",
       "5     England  \n",
       "6     England  \n",
       "7     England  \n",
       "8       Texas  \n",
       "9       Texas  \n",
       "10      Texas  \n",
       "11      Texas  \n",
       "12      Texas  \n",
       "13      Texas  \n",
       "14  Australia  \n",
       "15  Australia  \n",
       "16  Australia  \n",
       "17  Australia  \n",
       "18  Australia  \n",
       "19        USA  \n",
       "20        USA  "
      ]
     },
     "execution_count": 26,
     "metadata": {},
     "output_type": "execute_result"
    }
   ],
   "source": [
    "import pandas as pd\n",
    "\n",
    "df = pd.read_csv(\"./data/character_descriptions.csv\")\n",
    "df = df.rename(columns={\"Description\":\"text\"})\n",
    "df.head(21)"
   ]
  },
  {
   "cell_type": "code",
   "execution_count": 27,
   "id": "fcd5a863",
   "metadata": {},
   "outputs": [
    {
     "data": {
      "text/plain": [
       "Name       55\n",
       "text       55\n",
       "Medium     55\n",
       "Setting    55\n",
       "dtype: int64"
      ]
     },
     "execution_count": 27,
     "metadata": {},
     "output_type": "execute_result"
    }
   ],
   "source": [
    "df.count()"
   ]
  },
  {
   "cell_type": "markdown",
   "id": "505891b2",
   "metadata": {},
   "source": [
    "### Creating a Full Description\n",
    "\n",
    "I want to combine all the text data into a single frame for the model to understand better as oppose to reading it as a dataframe."
   ]
  },
  {
   "cell_type": "code",
   "execution_count": 28,
   "id": "1a71da25",
   "metadata": {},
   "outputs": [],
   "source": [
    "descriptions = []"
   ]
  },
  {
   "cell_type": "code",
   "execution_count": 29,
   "id": "00d3a9e0",
   "metadata": {},
   "outputs": [
    {
     "name": "stdout",
     "output_type": "stream",
     "text": [
      "Name: Emily, Genre: Play, Setting: England, Description: A young woman in her early 20s, Emily is an aspiring actress and Alice's daughter. She has a bubbly personality and a quick wit, but struggles with self-doubt and insecurity. She's also in a relationship with George.\n",
      "Name: Jack, Genre: Play, Setting: England, Description: A middle-aged man in his 40s, Jack is a successful businessman and Sarah's boss. He has a no-nonsense attitude, but is fiercely loyal to his friends and family. He's married to Alice.\n",
      "Name: Alice, Genre: Play, Setting: England, Description: A woman in her late 30s, Alice is a warm and nurturing mother of two, including Emily. She's kind-hearted and empathetic, but can be overly protective of her children and prone to worrying. She's married to Jack.\n",
      "Name: Tom, Genre: Play, Setting: England, Description: A man in his 50s, Tom is a retired soldier and John's son. He has a no-nonsense approach to life, but is haunted by his experiences in combat and struggles with PTSD. He's also in a relationship with Rachel.\n",
      "Name: Sarah, Genre: Play, Setting: England, Description: A woman in her mid-20s, Sarah is a free-spirited artist and Jack's employee. She's creative, unconventional, and passionate about her work. However, she can also be flighty and impulsive at times.\n",
      "Name: George, Genre: Play, Setting: England, Description: A man in his early 30s, George is a charming and charismatic businessman who is in a relationship with Emily. He's ambitious, confident, and always looking for the next big opportunity. However, he's also prone to bending the rules to get what he wants.\n",
      "Name: Rachel, Genre: Play, Setting: England, Description: A woman in her late 20s, Rachel is a shy and introverted librarian who is in a relationship with Tom. She's intelligent, thoughtful, and has a deep love of books. However, she struggles with social anxiety and often feels like an outsider.\n",
      "Name: John, Genre: Play, Setting: England, Description: A man in his 60s, John is a retired professor and Tom's father. He has a dry wit and a love of intellectual debate, but can also be stubborn and set in his ways.\n",
      "Name: Maria, Genre: Movie, Setting: Texas, Description: A middle-aged Latina woman in her 40s, Maria is a hard-working single mother who owns a small family-run diner in a small Texas town. She's fiercely protective of her teenage daughter, Sofia, and is always trying to balance work and family.\n",
      "Name: Caleb, Genre: Movie, Setting: Texas, Description: A young African American man in his early 20s, Caleb is a talented musician who dreams of making it big in the music industry. He's charismatic, confident, and has a way with words. However, he's also struggling with addiction and is constantly at odds with his strict religious family.\n",
      "Name: Tyler, Genre: Movie, Setting: Texas, Description: A white man in his mid-30s, Tyler is a tough-as-nails sheriff who takes his job very seriously. He's stoic, no-nonsense, and has a strong sense of justice. However, he's also struggling to come to terms with a recent tragedy in his personal life.\n",
      "Name: Sonya, Genre: Movie, Setting: Texas, Description: A white woman in her late 20s, Sonya is a free-spirited journalist who's always on the hunt for the next big story. She's passionate, tenacious, and unafraid to speak her mind. However, she's also struggling to balance her career with her personal life, and has a tendency to push people away.\n",
      "Name: Manuel, Genre: Movie, Setting: Texas, Description: A middle-aged Hispanic man in his 50s, Manuel is a proud and hard-working farmer who's struggling to keep his family's farm afloat. He's fiercely loyal to his family and his community, and will do whatever it takes to protect them.\n",
      "Name: Will, Genre: Movie, Setting: Texas, Description: A white man in his early 40s, Will is a successful businessman who's come back to his hometown after many years away. He's confident, charming, and knows how to get what he wants. However, he's also hiding a dark secret from his past that threatens to destroy everything he's worked for.\n",
      "Name: Mia, Genre: Limited Series, Setting: Australia, Description: A young Australian woman in her mid-20s, Mia is a driven and ambitious lawyer who's just landed her dream job at a top law firm in Sydney. She's the younger sister of Max, a former soldier who's struggling with PTSD, and is trying to help him navigate his challenges while also balancing her demanding career.\n",
      "Name: Lucas, Genre: Limited Series, Setting: Australia, Description: A middle-aged Australian man in his 40s, Lucas is a successful businessman and the CEO of a major tech company. He's charming, charismatic, and has a way with people. He's been married to Ava, a successful fashion designer, for many years, but their marriage is on the rocks due to his infidelity.\n",
      "Name: Tahlia, Genre: Limited Series, Setting: Australia, Description: A young Indigenous Australian woman in her early 20s, Tahlia is a talented artist who's just been accepted into a prestigious art school. She's the niece of Mia and Max, and they've been like siblings since they were young. She's struggling to find her place in the world as an Indigenous woman, but Mia and Max are always there to support her.\n",
      "Name: Max, Genre: Limited Series, Setting: Australia, Description: A white Australian man in his late 20s, Max is a former soldier who's struggling to adjust to civilian life after serving in Afghanistan. He's tough, no-nonsense, and has a strong sense of duty. He's the older brother of Mia, and they've always been close. He's also Ava's godson, and she's always been like a second mother to him.\n",
      "Name: Ava, Genre: Limited Series, Setting: Australia, Description: A middle-aged Australian woman in her 50s, Ava is a successful fashion designer who's built an empire on her impeccable taste and attention to detail. She's elegant, sophisticated, and always knows what's in style. She's married to Lucas, but their marriage is strained due to his infidelity. She's also been a mentor to Tahlia, and has helped her navigate the art world.\n",
      "Name: Donna, Genre: Musical, Setting: USA, Description: A seasoned performer with a larger-than-life personality, Donna is confident and unapologetic on stage. She's known for her impeccable lip-sync skills and stunning costumes, but can sometimes come across as a diva behind the scenes. She's also a mentor to Johnny, helping her to hone her craft.\n",
      "Name: Johnny, Genre: Musical, Setting: USA, Description: A young up-and-coming performer, Johnny is full of energy and enthusiasm. She's known for her edgy and unconventional looks, but can be a bit scatterbrained at times. She looks up to Donna as a mentor and hopes to follow in her footsteps.\n",
      "Name: Sable, Genre: Musical, Setting: USA, Description: A sultry and dramatic performer, Sable exudes confidence on stage. She's known for her fierce lip-syncing abilities and dramatic performances, but can sometimes be a bit too self-absorbed. She's also a rival of Donna, and the two often compete for the spotlight.\n",
      "Name: Dolly, Genre: Musical, Setting: USA, Description: A bubbly and vivacious performer, Dolly is a fan favorite for her infectious personality and comedic performances. She's known for her campy looks and over-the-top antics, but can struggle with self-doubt and insecurity off stage. She's also a good friend of Johnny, often offering her words of encouragement.\n",
      "Name: Vixen, Genre: Musical, Setting: USA, Description: A fierce and competitive performer, Vixen is always out to win. She's known for her aggressive lip-syncing style and high-energy performances, but can be confrontational and difficult to work with. She's also a rival of Sable, and the two often clash both on and off stage.\n",
      "Name: Karma, Genre: Musical, Setting: USA, Description: A chameleon-like performer, Karma is known for her ability to transform herself into any character. She's a master of illusion and is always pushing boundaries with her looks and performances, but can sometimes struggle with authenticity and staying true to herself. She's also a friend of Dolly, often offering her a listening ear when she needs it.\n",
      "Name: Crystal, Genre: Musical, Setting: USA, Description: A quirky and imaginative performer, Crystal is always surprising audiences with her off-beat performances and unconventional looks. She's known for her unique creativity and imaginative approach, but can sometimes struggle with staying focused and on task. She's also a bit of a wildcard, and the other performers never know what to expect from her.\n",
      "Name: Olivia, Genre: Reality Show, Setting: USA, Description: A confident and charismatic marketing executive with a heart of gold. Olivia is always the life of the party, and her infectious personality draws people to her. She's looking for someone who can keep up with her high energy and bring some stability to her life.\n",
      "Name: Marcus, Genre: Reality Show, Setting: USA, Description: A charming and successful entrepreneur, Marcus is used to getting what he wants. He's a smooth talker with a magnetic personality, but can sometimes come across as a bit too self-centered. He's looking for someone who can challenge him and keep him on his toes.\n",
      "Name: Maya, Genre: Reality Show, Setting: USA, Description: A kind and compassionate nurse with a heart of gold, Maya is always putting others before herself. She's looking for someone who shares her values and is committed to making the world a better place. She's not afraid to speak her mind and stand up for what she believes in.\n",
      "Name: James, Genre: Reality Show, Setting: USA, Description: A handsome and athletic personal trainer, James is always up for a challenge. He's looking for someone who is as passionate about fitness as he is, and who can keep up with his intense workout regimen. He can sometimes come across as a bit too competitive, but his heart is always in the right place.\n",
      "Name: Sophia, Genre: Reality Show, Setting: USA, Description: A fun-loving and adventurous travel blogger, Sophia is always looking for her next big adventure. She's looking for someone who can join her on her travels and share in her love of exploration. She's a free spirit who isn't afraid to take risks and try new things.\n",
      "Name: Noah, Genre: Reality Show, Setting: USA, Description: A quirky and creative graphic designer, Noah is always pushing the boundaries with his art. He's looking for someone who can appreciate his unique perspective and isn't afraid to be a little unconventional. He's a bit of a romantic at heart, and loves nothing more than creating grand gestures of love for the people he cares about.\n",
      "Name: Chloe, Genre: Reality Show, Setting: USA, Description: A driven and ambitious attorney, Chloe is always striving for success. She's looking for someone who can match her intellect and drive, and who is supportive of her career goals. She's a bit guarded when it comes to matters of the heart, but is ready to let her guard down for the right person.\n",
      "Name: Jake, Genre: Reality Show, Setting: USA, Description: A laid-back and easygoing firefighter, Jake is the quintessential good guy. He's looking for someone who shares his values of honesty and integrity, and who is looking for a stable and committed relationship. He's a bit of a hopeless romantic, and is always looking for ways to sweep his partner off their feet.\n",
      "Name: Prince Lorenzo, Genre: Opera, Setting: Italy, Description: A charming and handsome prince who has recently returned from a long journey abroad. Prince Lorenzo is well-traveled and cultured, and his voice is smooth and velvety. He is searching for true love and has his sights set on a particular young woman.\n",
      "Name: Signora Rosa, Genre: Opera, Setting: Italy, Description: A mysterious and alluring woman who runs a local apothecary. Signora Rosa is known for her beauty and her magical remedies, which some believe have mystical powers. Her singing voice is hauntingly beautiful and her demeanor is both captivating and enigmatic.\n",
      "Name: Baron Gustavo, Genre: Opera, Setting: Italy, Description: A wealthy and arrogant nobleman who loves to flaunt his wealth and status. Baron Gustavo is competitive and ruthless, and his singing voice is powerful and commanding. He is not above using his influence and resources to get what he wants, regardless of who he hurts in the process.\n",
      "Name: Francesca, Genre: Opera, Setting: Italy, Description: A fiery and passionate young woman who works as a blacksmith. She is strong-willed and independent, and her singing voice is bold and powerful. Francesca has caught the eye of Prince Lorenzo, but she is hesitant to give her heart to a man who comes from such a different world.\n",
      "Name: Don Carlo, Genre: Opera, Setting: Italy, Description: A charming and charismatic young man who is often the life of the party. Don Carlo is quick-witted and clever, and his singing voice is playful and light. He is friends with Baron Gustavo, but his loyalty is often called into question. He is not above causing mischief and stirring up trouble for his own amusement.\n",
      "Name: Duke Orsino, Genre: Play, Setting: Ancient Greece, Description: A pompous and self-important nobleman who is hopelessly in love with Lady Olivia. Duke Orsino is arrogant and condescending to those around him, but is also a bit of a buffoon. He is related to Sir Toby Belch, who is his uncle.\n",
      "Name: Lady Olivia, Genre: Play, Setting: Ancient Greece, Description: A wealthy and beautiful noblewoman who has recently become a widow. Lady Olivia is melancholy and withdrawn, and refuses to entertain any suitors. She is the object of Duke Orsino's affections, but is not interested in him. She is also the cousin of Sir Toby Belch and his niece.\n",
      "Name: Sir Toby Belch, Genre: Play, Setting: Ancient Greece, Description: A drunken and lecherous knight who loves nothing more than drinking, carousing, and making mischief. Sir Toby Belch is related to Duke Orsino and Lady Olivia, and uses this connection to his advantage.\n",
      "Name: Malvolio, Genre: Play, Setting: Ancient Greece, Description: A pompous and self-righteous steward in Lady Olivia's household. Malvolio is humorless and uptight, and is often the target of Sir Toby Belch's pranks. He is secretly in love with Lady Olivia and harbors dreams of marrying her.\n",
      "Name: Viola, Genre: Play, Setting: Ancient Greece, Description: A plucky and resourceful young woman who is shipwrecked on the coast of Illyria. Viola disguises herself as a man, taking on the identity of Cesario, and becomes a servant in Duke Orsino's household. She develops feelings for the Duke, but is unable to reveal her true identity.\n",
      "Name: Sir Andrew Aguecheek, Genre: Play, Setting: Ancient Greece, Description: A dim-witted and gullible nobleman who is brought to Illyria by Sir Toby Belch as a potential suitor for Lady Olivia. Sir Andrew Aguecheek is a perennial bachelor and is easily manipulated by those around him.\n",
      "Name: Bianca, Genre: Play, Setting: Ancient Greece, Description: Lady Olivia's cunning and quick-witted maid. Bianca is a master of mischief and pranks, and often collaborates with Sir Toby Belch to torment Malvolio. She is also secretly in love with Sir Toby.\n",
      "Name: Sebastian, Genre: Play, Setting: Ancient Greece, Description: Viola's twin brother, who is also shipwrecked on the coast of Illyria. Sebastian is rescued by Antonio and becomes embroiled in a series of misunderstandings and mistaken identities. He develops feelings for Lady Olivia, much to the chagrin of Duke Orsino.\n",
      "Name: Feste, Genre: Play, Setting: Ancient Greece, Description: A jester and musician who works in Lady Olivia's household. Feste is the wisest character in the play, and uses his wit and intelligence to comment on the actions of the other characters. He is also a confidant to Viola, and helps her navigate her complicated situation.\n",
      "Name: Antonio, Genre: Play, Setting: Ancient Greece, Description: A sea captain who rescues Sebastian from the shipwreck. Antonio becomes devoted to Sebastian and follows him to Illyria, despite the danger it poses to himself.\n",
      "Name: Abigail, Genre: Sitcom, Setting: USA, Description: A plucky and resourceful young woman who works as a maid in one of the taverns in colonial Williamsburg. Abigail is hard-working and determined, and dreams of one day owning her own business. She has a friendly rivalry with her co-worker, Thomas.\n",
      "Name: Thomas, Genre: Sitcom, Setting: USA, Description: A good-natured and affable young man who also works in the same tavern as Abigail. Thomas is the jester of the group and enjoys making jokes and lightening the mood. He often finds himself caught up in Abigail's schemes.\n",
      "Name: Reverend Brown, Genre: Sitcom, Setting: USA, Description: The pious and stern minister of the local church. Reverend Brown takes his role very seriously and often clashes with the more irreverent characters in the town. He is also secretly in love with Abigail and tries to win her over with his piety.\n",
      "Name: Captain James, Genre: Sitcom, Setting: USA, Description: The charismatic and dashing captain of the local militia. Captain James is a ladies' man and enjoys flirting with the women of the town. He has a friendly rivalry with Reverend Brown and often teases him about his piousness.\n",
      "Name: Mrs. Mercer, Genre: Sitcom, Setting: USA, Description: The matriarch of the wealthiest family in Williamsburg. Mrs. Mercer is a bit of a snob and enjoys reminding everyone of her social standing. She often hires Abigail to work in her home and is very demanding.\n",
      "Name: Mr. Mercer, Genre: Sitcom, Setting: USA, Description: The bumbling and absent-minded patriarch of the Mercer family. Mr. Mercer is often clueless about what is going on around him and relies on his wife to keep him in line. He has a secret love of practical jokes and often finds himself in trouble because of them.\n"
     ]
    }
   ],
   "source": [
    "for i, row in df.iterrows():\n",
    "    name = row[\"Name\"]\n",
    "\n",
    "    text = row[\"text\"]\n",
    "    medium = row[\"Medium\"]\n",
    "    setting = row[\"Setting\"]\n",
    "\n",
    "    description = f\"Name: {name}, Genre: {medium}, Setting: {setting}, Description: {text}\" \n",
    "\n",
    "    print(description)\n",
    "\n",
    "    descriptions.append(description)"
   ]
  },
  {
   "cell_type": "code",
   "execution_count": 30,
   "id": "3057d723",
   "metadata": {},
   "outputs": [
    {
     "data": {
      "text/html": [
       "<div>\n",
       "<style scoped>\n",
       "    .dataframe tbody tr th:only-of-type {\n",
       "        vertical-align: middle;\n",
       "    }\n",
       "\n",
       "    .dataframe tbody tr th {\n",
       "        vertical-align: top;\n",
       "    }\n",
       "\n",
       "    .dataframe thead th {\n",
       "        text-align: right;\n",
       "    }\n",
       "</style>\n",
       "<table border=\"1\" class=\"dataframe\">\n",
       "  <thead>\n",
       "    <tr style=\"text-align: right;\">\n",
       "      <th></th>\n",
       "      <th>Name</th>\n",
       "      <th>text</th>\n",
       "      <th>Medium</th>\n",
       "      <th>Setting</th>\n",
       "      <th>description</th>\n",
       "    </tr>\n",
       "  </thead>\n",
       "  <tbody>\n",
       "    <tr>\n",
       "      <th>0</th>\n",
       "      <td>Emily</td>\n",
       "      <td>A young woman in her early 20s, Emily is an as...</td>\n",
       "      <td>Play</td>\n",
       "      <td>England</td>\n",
       "      <td>Name: Emily, Genre: Play, Setting: England, De...</td>\n",
       "    </tr>\n",
       "    <tr>\n",
       "      <th>1</th>\n",
       "      <td>Jack</td>\n",
       "      <td>A middle-aged man in his 40s, Jack is a succes...</td>\n",
       "      <td>Play</td>\n",
       "      <td>England</td>\n",
       "      <td>Name: Jack, Genre: Play, Setting: England, Des...</td>\n",
       "    </tr>\n",
       "    <tr>\n",
       "      <th>2</th>\n",
       "      <td>Alice</td>\n",
       "      <td>A woman in her late 30s, Alice is a warm and n...</td>\n",
       "      <td>Play</td>\n",
       "      <td>England</td>\n",
       "      <td>Name: Alice, Genre: Play, Setting: England, De...</td>\n",
       "    </tr>\n",
       "    <tr>\n",
       "      <th>3</th>\n",
       "      <td>Tom</td>\n",
       "      <td>A man in his 50s, Tom is a retired soldier and...</td>\n",
       "      <td>Play</td>\n",
       "      <td>England</td>\n",
       "      <td>Name: Tom, Genre: Play, Setting: England, Desc...</td>\n",
       "    </tr>\n",
       "    <tr>\n",
       "      <th>4</th>\n",
       "      <td>Sarah</td>\n",
       "      <td>A woman in her mid-20s, Sarah is a free-spirit...</td>\n",
       "      <td>Play</td>\n",
       "      <td>England</td>\n",
       "      <td>Name: Sarah, Genre: Play, Setting: England, De...</td>\n",
       "    </tr>\n",
       "  </tbody>\n",
       "</table>\n",
       "</div>"
      ],
      "text/plain": [
       "    Name                                               text Medium  Setting  \\\n",
       "0  Emily  A young woman in her early 20s, Emily is an as...   Play  England   \n",
       "1   Jack  A middle-aged man in his 40s, Jack is a succes...   Play  England   \n",
       "2  Alice  A woman in her late 30s, Alice is a warm and n...   Play  England   \n",
       "3    Tom  A man in his 50s, Tom is a retired soldier and...   Play  England   \n",
       "4  Sarah  A woman in her mid-20s, Sarah is a free-spirit...   Play  England   \n",
       "\n",
       "                                         description  \n",
       "0  Name: Emily, Genre: Play, Setting: England, De...  \n",
       "1  Name: Jack, Genre: Play, Setting: England, Des...  \n",
       "2  Name: Alice, Genre: Play, Setting: England, De...  \n",
       "3  Name: Tom, Genre: Play, Setting: England, Desc...  \n",
       "4  Name: Sarah, Genre: Play, Setting: England, De...  "
      ]
     },
     "execution_count": 30,
     "metadata": {},
     "output_type": "execute_result"
    }
   ],
   "source": [
    "df[\"description\"] = descriptions\n",
    "df.head()"
   ]
  },
  {
   "cell_type": "markdown",
   "id": "c30cc43a",
   "metadata": {},
   "source": [
    "### Set up Embedding Models\n",
    "\n",
    "Create embedding function"
   ]
  },
  {
   "cell_type": "code",
   "execution_count": 31,
   "id": "f63be11f",
   "metadata": {},
   "outputs": [],
   "source": [
    "import openai\n",
    "import os\n",
    "\n",
    "openai.api_key = os.getenv(\"api_key\")\n",
    "openai.api_base = os.getenv(\"api_base\")"
   ]
  },
  {
   "cell_type": "code",
   "execution_count": 32,
   "id": "28a53498",
   "metadata": {},
   "outputs": [],
   "source": [
    "import json\n",
    "from openai import OpenAI\n",
    "\n",
    "\n",
    "deployment_model = \"gpt-3.5-turbo-instruct\"\n",
    "client = OpenAI()\n",
    "response = client.embeddings.create(\n",
    "    model = \"text-embedding-ada-002\",\n",
    "    input = \"Hello, world!\",\n",
    ")\n",
    "\n",
    "\n",
    "\n",
    "response_json = response.model_dump_json(indent=2)\n",
    "\n"
   ]
  },
  {
   "cell_type": "code",
   "execution_count": 33,
   "id": "ad3b59f9",
   "metadata": {},
   "outputs": [],
   "source": [
    "def create_embeddings(text):\n",
    "    response = client.embeddings.create(\n",
    "        model = \"text-embedding-ada-002\",\n",
    "        input = text\n",
    "    )\n",
    "    response_dict = json.loads(response.model_dump_json())\n",
    "    embedds = response_dict[\"data\"][0][\"embedding\"]\n",
    "\n",
    "    return embedds"
   ]
  },
  {
   "cell_type": "code",
   "execution_count": 34,
   "id": "1a183ba6",
   "metadata": {},
   "outputs": [
    {
     "name": "stderr",
     "output_type": "stream",
     "text": [
      "100%|██████████| 55/55 [00:10<00:00,  5.45it/s]\n"
     ]
    }
   ],
   "source": [
    "from tqdm import tqdm\n",
    "embeddings = []\n",
    "\n",
    "for i, row in tqdm(df.iterrows(), total=df.shape[0]):\n",
    "    text = row[\"description\"]\n",
    "    embeddings.append(create_embeddings(text))\n",
    "\n",
    "df[\"embeddings\"] = embeddings"
   ]
  },
  {
   "cell_type": "code",
   "execution_count": 35,
   "id": "2b742eb0",
   "metadata": {},
   "outputs": [
    {
     "data": {
      "text/html": [
       "<div>\n",
       "<style scoped>\n",
       "    .dataframe tbody tr th:only-of-type {\n",
       "        vertical-align: middle;\n",
       "    }\n",
       "\n",
       "    .dataframe tbody tr th {\n",
       "        vertical-align: top;\n",
       "    }\n",
       "\n",
       "    .dataframe thead th {\n",
       "        text-align: right;\n",
       "    }\n",
       "</style>\n",
       "<table border=\"1\" class=\"dataframe\">\n",
       "  <thead>\n",
       "    <tr style=\"text-align: right;\">\n",
       "      <th></th>\n",
       "      <th>Name</th>\n",
       "      <th>text</th>\n",
       "      <th>Medium</th>\n",
       "      <th>Setting</th>\n",
       "      <th>description</th>\n",
       "      <th>embeddings</th>\n",
       "    </tr>\n",
       "  </thead>\n",
       "  <tbody>\n",
       "    <tr>\n",
       "      <th>0</th>\n",
       "      <td>Emily</td>\n",
       "      <td>A young woman in her early 20s, Emily is an as...</td>\n",
       "      <td>Play</td>\n",
       "      <td>England</td>\n",
       "      <td>Name: Emily, Genre: Play, Setting: England, De...</td>\n",
       "      <td>[-0.016550125554203987, -0.011766815558075905,...</td>\n",
       "    </tr>\n",
       "    <tr>\n",
       "      <th>1</th>\n",
       "      <td>Jack</td>\n",
       "      <td>A middle-aged man in his 40s, Jack is a succes...</td>\n",
       "      <td>Play</td>\n",
       "      <td>England</td>\n",
       "      <td>Name: Jack, Genre: Play, Setting: England, Des...</td>\n",
       "      <td>[0.006691130809485912, -0.025658661499619484, ...</td>\n",
       "    </tr>\n",
       "    <tr>\n",
       "      <th>2</th>\n",
       "      <td>Alice</td>\n",
       "      <td>A woman in her late 30s, Alice is a warm and n...</td>\n",
       "      <td>Play</td>\n",
       "      <td>England</td>\n",
       "      <td>Name: Alice, Genre: Play, Setting: England, De...</td>\n",
       "      <td>[0.004441577009856701, -0.009406846947968006, ...</td>\n",
       "    </tr>\n",
       "    <tr>\n",
       "      <th>3</th>\n",
       "      <td>Tom</td>\n",
       "      <td>A man in his 50s, Tom is a retired soldier and...</td>\n",
       "      <td>Play</td>\n",
       "      <td>England</td>\n",
       "      <td>Name: Tom, Genre: Play, Setting: England, Desc...</td>\n",
       "      <td>[0.01923176273703575, -0.01625090464949608, -0...</td>\n",
       "    </tr>\n",
       "    <tr>\n",
       "      <th>4</th>\n",
       "      <td>Sarah</td>\n",
       "      <td>A woman in her mid-20s, Sarah is a free-spirit...</td>\n",
       "      <td>Play</td>\n",
       "      <td>England</td>\n",
       "      <td>Name: Sarah, Genre: Play, Setting: England, De...</td>\n",
       "      <td>[-0.013280419632792473, -0.026573846116662025,...</td>\n",
       "    </tr>\n",
       "  </tbody>\n",
       "</table>\n",
       "</div>"
      ],
      "text/plain": [
       "    Name                                               text Medium  Setting  \\\n",
       "0  Emily  A young woman in her early 20s, Emily is an as...   Play  England   \n",
       "1   Jack  A middle-aged man in his 40s, Jack is a succes...   Play  England   \n",
       "2  Alice  A woman in her late 30s, Alice is a warm and n...   Play  England   \n",
       "3    Tom  A man in his 50s, Tom is a retired soldier and...   Play  England   \n",
       "4  Sarah  A woman in her mid-20s, Sarah is a free-spirit...   Play  England   \n",
       "\n",
       "                                         description  \\\n",
       "0  Name: Emily, Genre: Play, Setting: England, De...   \n",
       "1  Name: Jack, Genre: Play, Setting: England, Des...   \n",
       "2  Name: Alice, Genre: Play, Setting: England, De...   \n",
       "3  Name: Tom, Genre: Play, Setting: England, Desc...   \n",
       "4  Name: Sarah, Genre: Play, Setting: England, De...   \n",
       "\n",
       "                                          embeddings  \n",
       "0  [-0.016550125554203987, -0.011766815558075905,...  \n",
       "1  [0.006691130809485912, -0.025658661499619484, ...  \n",
       "2  [0.004441577009856701, -0.009406846947968006, ...  \n",
       "3  [0.01923176273703575, -0.01625090464949608, -0...  \n",
       "4  [-0.013280419632792473, -0.026573846116662025,...  "
      ]
     },
     "execution_count": 35,
     "metadata": {},
     "output_type": "execute_result"
    }
   ],
   "source": [
    "df.head()"
   ]
  },
  {
   "cell_type": "markdown",
   "id": "740611b5",
   "metadata": {},
   "source": [
    "### Sort Values by Relevance\n",
    "\n",
    "We will be using cosine similarity to create a similarity search of our embeddings to question"
   ]
  },
  {
   "cell_type": "code",
   "execution_count": 36,
   "id": "3b2a0bcf",
   "metadata": {},
   "outputs": [],
   "source": [
    "from scipy.spatial.distance import cosine\n",
    "import numpy as np\n",
    "embeddings_array = np.array(df[\"embeddings\"].tolist())\n",
    "\n",
    "def get_similar_rows(df, question):\n",
    "    question_embedding = create_embeddings(question)\n",
    "\n",
    "    df2 = df.copy()\n",
    "\n",
    "    df2[\"distance\"] = df2[\"embeddings\"].apply(lambda x: cosine(x, question_embedding))\n",
    "    \n",
    "    df_sorted = df2.sort_values(by=\"distance\", ascending=True, inplace=True)\n",
    "    return df2\n",
    "    "
   ]
  },
  {
   "cell_type": "code",
   "execution_count": 37,
   "id": "2b60c5d7",
   "metadata": {},
   "outputs": [
    {
     "data": {
      "text/html": [
       "<div>\n",
       "<style scoped>\n",
       "    .dataframe tbody tr th:only-of-type {\n",
       "        vertical-align: middle;\n",
       "    }\n",
       "\n",
       "    .dataframe tbody tr th {\n",
       "        vertical-align: top;\n",
       "    }\n",
       "\n",
       "    .dataframe thead th {\n",
       "        text-align: right;\n",
       "    }\n",
       "</style>\n",
       "<table border=\"1\" class=\"dataframe\">\n",
       "  <thead>\n",
       "    <tr style=\"text-align: right;\">\n",
       "      <th></th>\n",
       "      <th>Name</th>\n",
       "      <th>text</th>\n",
       "      <th>Medium</th>\n",
       "      <th>Setting</th>\n",
       "      <th>description</th>\n",
       "      <th>embeddings</th>\n",
       "      <th>distance</th>\n",
       "    </tr>\n",
       "  </thead>\n",
       "  <tbody>\n",
       "    <tr>\n",
       "      <th>7</th>\n",
       "      <td>John</td>\n",
       "      <td>A man in his 60s, John is a retired professor ...</td>\n",
       "      <td>Play</td>\n",
       "      <td>England</td>\n",
       "      <td>Name: John, Genre: Play, Setting: England, Des...</td>\n",
       "      <td>[0.020836587995290756, -0.014914746396243572, ...</td>\n",
       "      <td>0.22634</td>\n",
       "    </tr>\n",
       "  </tbody>\n",
       "</table>\n",
       "</div>"
      ],
      "text/plain": [
       "   Name                                               text Medium  Setting  \\\n",
       "7  John  A man in his 60s, John is a retired professor ...   Play  England   \n",
       "\n",
       "                                         description  \\\n",
       "7  Name: John, Genre: Play, Setting: England, Des...   \n",
       "\n",
       "                                          embeddings  distance  \n",
       "7  [0.020836587995290756, -0.014914746396243572, ...   0.22634  "
      ]
     },
     "execution_count": 37,
     "metadata": {},
     "output_type": "execute_result"
    }
   ],
   "source": [
    "question = \"What is the name of the character who is a wizard?\"\n",
    "\n",
    "most_similar = get_similar_rows(df, question)\n",
    "\n",
    "most_similar.head(1)"
   ]
  },
  {
   "cell_type": "markdown",
   "id": "883d5486",
   "metadata": {},
   "source": [
    "### Custom Prompt Design"
   ]
  },
  {
   "cell_type": "code",
   "execution_count": 41,
   "id": "8f981595",
   "metadata": {},
   "outputs": [],
   "source": [
    "import tiktoken\n",
    "\n",
    "def create_prompt(question, df, max_token_count):\n",
    "    tokenizer = tiktoken.get_encoding(\"cl100k_base\")\n",
    "\n",
    "    prompt_template = \"\"\"\n",
    "    You are a AI Assistant that answers questions from a character descriptions database, if you don't know the answer then say \"Not Available\"\n",
    "    given the following character descriptions \n",
    "    {}:\n",
    "\n",
    "    --- \n",
    "    Question: {}\n",
    "    Answer\n",
    "    \"\"\"\n",
    "\n",
    "    current_token_count = len(tokenizer.encode(prompt_template)) + len(tokenizer.encode(question))\n",
    "\n",
    "    context = []\n",
    "\n",
    "    for text in get_similar_rows(df, question)[\"description\"]:\n",
    "        \n",
    "        text_token_count = len(tokenizer.encode(text))\n",
    "        current_token_count += text_token_count\n",
    "        \n",
    "        if current_token_count < max_token_count:\n",
    "            context.append(text)\n",
    "        else:\n",
    "            break\n",
    "    \n",
    "    return prompt_template.format(\"\\n###\\n\".join(context), question)\n",
    "    \n",
    "\n"
   ]
  },
  {
   "cell_type": "code",
   "execution_count": 45,
   "id": "98439a39",
   "metadata": {},
   "outputs": [
    {
     "name": "stdout",
     "output_type": "stream",
     "text": [
      "\n",
      "    You are a AI Assistant that answers questions from a character descriptions database, if you don't know the answer then say \"Not Available\"\n",
      "    given the following character descriptions \n",
      "    Name: John, Genre: Play, Setting: England, Description: A man in his 60s, John is a retired professor and Tom's father. He has a dry wit and a love of intellectual debate, but can also be stubborn and set in his ways.\n",
      "###\n",
      "Name: Sir Andrew Aguecheek, Genre: Play, Setting: Ancient Greece, Description: A dim-witted and gullible nobleman who is brought to Illyria by Sir Toby Belch as a potential suitor for Lady Olivia. Sir Andrew Aguecheek is a perennial bachelor and is easily manipulated by those around him.\n",
      "###\n",
      "Name: George, Genre: Play, Setting: England, Description: A man in his early 30s, George is a charming and charismatic businessman who is in a relationship with Emily. He's ambitious, confident, and always looking for the next big opportunity. However, he's also prone to bending the rules to get what he wants.\n",
      "###\n",
      "Name: Sir Toby Belch, Genre: Play, Setting: Ancient Greece, Description: A drunken and lecherous knight who loves nothing more than drinking, carousing, and making mischief. Sir Toby Belch is related to Duke Orsino and Lady Olivia, and uses this connection to his advantage.\n",
      "###\n",
      "Name: Jack, Genre: Play, Setting: England, Description: A middle-aged man in his 40s, Jack is a successful businessman and Sarah's boss. He has a no-nonsense attitude, but is fiercely loyal to his friends and family. He's married to Alice.\n",
      "###\n",
      "Name: Thomas, Genre: Sitcom, Setting: USA, Description: A good-natured and affable young man who also works in the same tavern as Abigail. Thomas is the jester of the group and enjoys making jokes and lightening the mood. He often finds himself caught up in Abigail's schemes.:\n",
      "\n",
      "    --- \n",
      "    Question: What is the name of the character who is a wizard?\n",
      "    Answer\n",
      "    \n"
     ]
    }
   ],
   "source": [
    "print(create_prompt(question, df, 500))"
   ]
  },
  {
   "cell_type": "markdown",
   "id": "ae769871",
   "metadata": {},
   "source": [
    "## Custom Query Completion\n",
    "\n",
    "TODO: In the cells below, compose a custom query using your chosen dataset and retrieve results from an OpenAI `Completion` model. You may copy and paste any useful code from the course materials."
   ]
  },
  {
   "cell_type": "code",
   "execution_count": 101,
   "id": "b8a1501f",
   "metadata": {},
   "outputs": [],
   "source": [
    "import openai\n",
    "import os\n",
    "\n",
    "openai.api_key = os.getenv(\"api_key\")\n",
    "openai.api_base = os.getenv(\"api_base\")"
   ]
  },
  {
   "cell_type": "code",
   "execution_count": 43,
   "id": "b8fb7675",
   "metadata": {},
   "outputs": [],
   "source": [
    "\n",
    "client = OpenAI()"
   ]
  },
  {
   "cell_type": "code",
   "execution_count": 44,
   "id": "113ebf32",
   "metadata": {},
   "outputs": [],
   "source": [
    "def query_completion(question, df, max_token_count =1000):\n",
    "    prompt=create_prompt(question,df,max_token_count)\n",
    "    response= client.completions.create(\n",
    "        model = \"gpt-3.5-turbo-instruct\",\n",
    "        prompt = prompt,\n",
    "        max_tokens = max_token_count\n",
    "    )\n",
    "\n",
    "    return response.choices[0].text"
   ]
  },
  {
   "cell_type": "markdown",
   "id": "1783f146",
   "metadata": {},
   "source": [
    "## Custom Performance Demonstration\n",
    "\n",
    "TODO: In the cells below, demonstrate the performance of your custom query using at least 2 questions. For each question, show the answer from a basic `Completion` model query as well as the answer from your custom query."
   ]
  },
  {
   "cell_type": "markdown",
   "id": "4f11fdc0",
   "metadata": {},
   "source": [
    "### Question 1"
   ]
  },
  {
   "cell_type": "code",
   "execution_count": 46,
   "id": "4901c850",
   "metadata": {},
   "outputs": [],
   "source": [
    "question = \"Who is the the successful business man in the movie?\""
   ]
  },
  {
   "cell_type": "code",
   "execution_count": 47,
   "id": "e8c860b8",
   "metadata": {},
   "outputs": [
    {
     "name": "stdout",
     "output_type": "stream",
     "text": [
      ": Will\n"
     ]
    }
   ],
   "source": [
    "answer = query_completion(question,df,500)\n",
    "print(answer)"
   ]
  },
  {
   "cell_type": "markdown",
   "id": "6e86e37c",
   "metadata": {},
   "source": [
    "### Question 2"
   ]
  },
  {
   "cell_type": "code",
   "execution_count": 48,
   "id": "6f646989",
   "metadata": {},
   "outputs": [],
   "source": [
    "question = \"Give me a good character description of a character in a movie that falls in love with a successful business man?\""
   ]
  },
  {
   "cell_type": "code",
   "execution_count": 49,
   "id": "57b835e5",
   "metadata": {},
   "outputs": [
    {
     "name": "stdout",
     "output_type": "stream",
     "text": [
      " Not Available\n"
     ]
    }
   ],
   "source": [
    "answer = query_completion(question,df,500)\n",
    "print(answer)"
   ]
  },
  {
   "cell_type": "markdown",
   "id": "2c41e208",
   "metadata": {},
   "source": [
    "### Conclusion"
   ]
  },
  {
   "cell_type": "markdown",
   "id": "822c3fcc",
   "metadata": {},
   "source": [
    "I am making a Retrieval Augmented Generation (RAG) that is doing the following:\n",
    "\n",
    "1. User Query\n",
    "- A user will ask question on the charater descriptions\n",
    "\n",
    "2. Embed Qery\n",
    "- The query is then embedded using a embedding models, where the knowledge base is already converted intoa  embedding using the same embedding model.\n",
    "\n",
    "3. Retrieval Relevant Context\n",
    "- By using cosine similarity, we are comparing our query embedding to the stored embedding of the knowledge base, and reeturnign the top k or the most relevant passages.\n",
    "\n",
    "4. Prompt Construction for Generation\n",
    "- I created a function does the above all in one go that takes in the user queswtions, embeds it, then calculate score to the stored embeddings.\n",
    "\n",
    "5. Generate a response\n",
    "- We used gpt-3.5 and reads the contexts (text) that is coming from the top k retrival, then it generates a final answer.\n"
   ]
  },
  {
   "cell_type": "markdown",
   "id": "0e5e1592",
   "metadata": {},
   "source": [
    "Main Ideas:\n",
    "\n",
    "1) Calculate Embeddings and Similarity\n",
    "\n",
    "2) Pick Top-K documents\n",
    "- Pick most relevant chunks based on similarity scores\n",
    "\n",
    "3) Build Prompt\n",
    "- Inject the most relevant hcunks into user's question that I send to generative model"
   ]
  },
  {
   "cell_type": "markdown",
   "id": "0aed6e6a",
   "metadata": {},
   "source": [
    "This back and fourth requires additional chat memory to hold conversation, but ideally you would create a UI around this."
   ]
  },
  {
   "cell_type": "markdown",
   "id": "1e320654",
   "metadata": {},
   "source": []
  }
 ],
 "metadata": {
  "kernelspec": {
   "display_name": "poetry-jslLZdKs-py3.12",
   "language": "python",
   "name": "python3"
  },
  "language_info": {
   "codemirror_mode": {
    "name": "ipython",
    "version": 3
   },
   "file_extension": ".py",
   "mimetype": "text/x-python",
   "name": "python",
   "nbconvert_exporter": "python",
   "pygments_lexer": "ipython3",
   "version": "3.12.8"
  }
 },
 "nbformat": 4,
 "nbformat_minor": 5
}
